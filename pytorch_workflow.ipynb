{
 "cells": [
  {
   "cell_type": "code",
   "execution_count": 30,
   "metadata": {},
   "outputs": [],
   "source": [
    "import torch\n",
    "from sklearn.model_selection import train_test_split\n",
    "import numpy as np\n",
    "import pandas as pd\n",
    "import matplotlib.pyplot as plt"
   ]
  },
  {
   "attachments": {},
   "cell_type": "markdown",
   "metadata": {},
   "source": [
    "## Data - Preparing and Loading\n",
    "\n",
    "* Excel Spreadsheets\n",
    "* Images of any kind\n",
    "* Videos (e.g. Youtube)\n",
    "* DNAs\n",
    "* Texts\n",
    "\n",
    "Machine learning is a game of 2 parts:\n",
    "1. Get data into a numerical representation\n",
    "1. Build a model to learn patterns in the numerical representation"
   ]
  },
  {
   "cell_type": "code",
   "execution_count": 31,
   "metadata": {},
   "outputs": [
    {
     "data": {
      "text/plain": [
       "(tensor([[0.0000],\n",
       "         [0.0200],\n",
       "         [0.0400],\n",
       "         [0.0600],\n",
       "         [0.0800]]),\n",
       " tensor([[0.3000],\n",
       "         [0.3140],\n",
       "         [0.3280],\n",
       "         [0.3420],\n",
       "         [0.3560]]),\n",
       " 50,\n",
       " 50)"
      ]
     },
     "execution_count": 31,
     "metadata": {},
     "output_type": "execute_result"
    }
   ],
   "source": [
    "# Create known data using linear regression\n",
    "weight = 0.7\n",
    "bias = 0.3\n",
    "\n",
    "start = 0\n",
    "end = 1\n",
    "step = 0.02\n",
    "X = torch.arange(start, end, step).unsqueeze(dim = 1)\n",
    "y = weight * X + bias\n",
    "\n",
    "X[:5], y[:5], len(X), len(y)"
   ]
  },
  {
   "cell_type": "code",
   "execution_count": 32,
   "metadata": {},
   "outputs": [
    {
     "data": {
      "text/plain": [
       "(40, 10, 40, 10)"
      ]
     },
     "execution_count": 32,
     "metadata": {},
     "output_type": "execute_result"
    }
   ],
   "source": [
    "# Splitting data into training and tests sets \n",
    "X_train, X_test, y_train, y_test = train_test_split(X,y,test_size = 0.2, random_state = 42069)\n",
    "\n",
    "len(X_train), len(X_test), len(y_train), len(y_test)"
   ]
  },
  {
   "cell_type": "code",
   "execution_count": 33,
   "metadata": {},
   "outputs": [],
   "source": [
    "# Write a function to visualise our data\n",
    "def plot_predictions(train_data = X_train,\n",
    "                     train_labels = y_train,\n",
    "                     test_data = X_test,\n",
    "                     test_labels = y_test,\n",
    "                     predictions = None):\n",
    "    \"\"\"\n",
    "    Plots training data, test data and compares predictions\n",
    "    \"\"\"\n",
    "\n",
    "    plt. figure(figsize = (10,7))\n",
    "\n",
    "    # Plot training data in blue\n",
    "    plt.scatter(train_data, train_labels, c= 'b', s=4, label = 'Training Data')\n",
    "    \n",
    "    # Plot test data in green\n",
    "    plt.scatter(test_data, test_labels, c= 'g', s=4, label = 'Testing Data')\n",
    "\n",
    "    # Plot predictions if exist\n",
    "    if predictions is not None:\n",
    "        plt.scatter(test_data, predictions, c = 'r', s=4, label = 'Predictions')\n",
    "\n",
    "    # Show our legends\n",
    "    plt.legend()"
   ]
  },
  {
   "cell_type": "code",
   "execution_count": 34,
   "metadata": {},
   "outputs": [
    {
     "data": {
      "image/png": "[encoded data removed]",
      "text/plain": [
       "<Figure size 1000x700 with 1 Axes>"
      ]
     },
     "metadata": {},
     "output_type": "display_data"
    }
   ],
   "source": [
    "plot_predictions()"
   ]
  },
  {
   "attachments": {},
   "cell_type": "markdown",
   "metadata": {},
   "source": [
    "## Build simple PyTorch model"
   ]
  },
  {
   "cell_type": "code",
   "execution_count": 35,
   "metadata": {},
   "outputs": [],
   "source": [
    "from torch import nn # nn contains all of pytorch's building blocks for neural networks\n",
    "\n",
    "# Create linear regression model class\n",
    "class LinearRegressionModel(nn.Module): # Almost everything in PyTorch inherits from nn.Module (Subclass nn.Module)\n",
    "    def __init__(self):\n",
    "        super().__init__()\n",
    "\n",
    "        # Initialize model parameters. We can create whatever paremeters/ layers that we need for our model.\n",
    "        self.weights = nn.Parameter(torch.randn(1,requires_grad= True,dtype = torch.float32))\n",
    "        self.bias = nn.Parameter(torch.randn(1,requires_grad=True, dtype = torch.float32))\n",
    "\n",
    "    # Forward method to define the computation in the model\n",
    "    def forward(self, x: torch.Tensor) -> torch.Tensor:\n",
    "        return self.weights * x + self.bias # Linear regression formula\n",
    "\n"
   ]
  },
  {
   "attachments": {},
   "cell_type": "markdown",
   "metadata": {},
   "source": [
    "## PyTorch model building essentials\n",
    "\n",
    "* torch.nn - contains all the buildings for computational graphs (a nn is considered a computational graph)\n",
    "* torch.nn.Parameter - what parameters should our models try and learn, often a PyTorch layer from torch.nn will set these for us\n",
    "* torch.nn.Module - The base class for all neural network modules, if you subclass it, you should overwrite forward()\n",
    "* torch.optim - this is where the optimizers in PyTorch live, they will help with gradient descent\n",
    "* def forward() - All nn.Module subclasses require you to overwrite forward(), this method defines what happens in the forward computation"
   ]
  },
  {
   "cell_type": "code",
   "execution_count": 36,
   "metadata": {},
   "outputs": [
    {
     "data": {
      "text/plain": [
       "[Parameter containing:\n",
       " tensor([0.3367], requires_grad=True),\n",
       " Parameter containing:\n",
       " tensor([0.1288], requires_grad=True)]"
      ]
     },
     "execution_count": 36,
     "metadata": {},
     "output_type": "execute_result"
    }
   ],
   "source": [
    "# We can look what's inside the model using .parameters()\n",
    "\n",
    "# Create a random seed\n",
    "torch.manual_seed(42)\n",
    "\n",
    "# Create an instance of the model (this is a subclass of nn.Module)\n",
    "model_0 = LinearRegressionModel()\n",
    "\n",
    "# Check out the parameters\n",
    "list(model_0.parameters())"
   ]
  },
  {
   "cell_type": "code",
   "execution_count": 37,
   "metadata": {},
   "outputs": [
    {
     "data": {
      "text/plain": [
       "OrderedDict([('weights', tensor([0.3367])), ('bias', tensor([0.1288]))])"
      ]
     },
     "execution_count": 37,
     "metadata": {},
     "output_type": "execute_result"
    }
   ],
   "source": [
    "# List named parameters\n",
    "model_0.state_dict()"
   ]
  },
  {
   "cell_type": "markdown",
   "metadata": {},
   "source": [
    "## Making predictions using `torch.inference_mode()`\n",
    "\n",
    "To check our model's predictive power, let's see how well it predicts `y_test` based on `X_test`.\n",
    "\n",
    "When we pass data through our model, it's going to run it through the forward() method. "
   ]
  },
  {
   "cell_type": "code",
   "execution_count": 38,
   "metadata": {},
   "outputs": [],
   "source": [
    "# Make predictions with model\n",
    "with torch.inference_mode():\n",
    "    y_preds = model_0(X_test)\n",
    "\n",
    "# Can do the same with no_grad but inference_mode is preferred\n",
    "# with torch.no_grad():\n",
    "#     y_preds = model_0(X_test)"
   ]
  },
  {
   "cell_type": "code",
   "execution_count": 39,
   "metadata": {},
   "outputs": [
    {
     "data": {
      "image/png": "[encoded data removed]",
      "text/plain": [
       "<Figure size 1000x700 with 1 Axes>"
      ]
     },
     "metadata": {},
     "output_type": "display_data"
    }
   ],
   "source": [
    "plot_predictions(predictions=y_preds)"
   ]
  },
  {
   "attachments": {},
   "cell_type": "markdown",
   "metadata": {},
   "source": [
    "## Train Model\n",
    "\n",
    "In this section, we want to tran the model to move from some *unknown* parameters to some *known* parameters\n",
    "\n",
    "Or in other words, from a poor representation of the data to a better representation of the data.\n",
    "\n",
    "How do we measure how good the models' predictions are? Use a loss function.\n",
    "\n",
    "Things we need to train:\n",
    "* **Loss function:** A function to measure how wrong your model's predictions are to the ideal outpus, lower is better.\n",
    "* **Optimizer:** Takes in to account the loss of a model and adjusts the model's parameters (e.g. weights and biases)"
   ]
  },
  {
   "cell_type": "code",
   "execution_count": 40,
   "metadata": {},
   "outputs": [],
   "source": [
    "# Set up a loss function\n",
    "loss_fn = nn.L1Loss()\n",
    "\n",
    "# Set up an optimizer - Stochastic gradient descent\n",
    "optimizer = torch.optim.SGD(params = model_0.parameters(),\n",
    "                            lr = 0.01) # learning rate, possibility the most important hyperparameter you can set"
   ]
  },
  {
   "attachments": {},
   "cell_type": "markdown",
   "metadata": {},
   "source": [
    "## Building a training and testing loop in PyTorch\n",
    "\n",
    "A couple of things we need in a training loop:\n",
    "\n",
    "0. Loop through the data\n",
    "1. Forward pass (this involves data moving through our model's `forward()` functions) to make predictions - also called forward propagation\n",
    "1. Calculate the loss (compare forward pass predictions to ground truth labels)\n",
    "1. Optimizer zero grad\n",
    "1. Loss backward - move backwarsds through the network to calculate the gradients of each of the parameters of our model with respect to the loss (**backpropagation**)\n",
    "1. Optimizer step  - use the optimizer to adjust our model's parameters to try and improve the loss (**gradient descent**)"
   ]
  },
  {
   "cell_type": "code",
   "execution_count": 41,
   "metadata": {},
   "outputs": [
    {
     "name": "stdout",
     "output_type": "stream",
     "text": [
      "Loss: 0.3399479389190674\n",
      "Loss: 0.3277903199195862\n",
      "Loss: 0.315632700920105\n",
      "Loss: 0.3034750819206238\n",
      "Loss: 0.29131752252578735\n",
      "Loss: 0.27915987372398376\n",
      "Loss: 0.26700228452682495\n",
      "Loss: 0.25484469532966614\n",
      "Loss: 0.24268707633018494\n",
      "Loss: 0.23052950203418732\n",
      "Loss: 0.21837186813354492\n",
      "Loss: 0.2062142789363861\n",
      "Loss: 0.1940566897392273\n",
      "Loss: 0.1818990707397461\n",
      "Loss: 0.16974149644374847\n",
      "Loss: 0.15758390724658966\n",
      "Loss: 0.14542631804943085\n",
      "Loss: 0.13326872885227203\n",
      "Loss: 0.12155161052942276\n",
      "Loss: 0.11082466691732407\n",
      "Loss: 0.10174689441919327\n",
      "Loss: 0.09382808953523636\n",
      "Loss: 0.08721256256103516\n",
      "Loss: 0.0814322754740715\n",
      "Loss: 0.07617514580488205\n",
      "Loss: 0.07165361195802689\n",
      "Loss: 0.06809177249670029\n",
      "Loss: 0.065065398812294\n",
      "Loss: 0.06250905990600586\n",
      "Loss: 0.06035236269235611\n",
      "Loss: 0.05819566175341606\n",
      "Loss: 0.05622955039143562\n",
      "Loss: 0.05461534112691879\n",
      "Loss: 0.053282011300325394\n",
      "Loss: 0.05215667560696602\n",
      "Loss: 0.05126987770199776\n",
      "Loss: 0.050386667251586914\n",
      "Loss: 0.04968825727701187\n",
      "Loss: 0.048989858478307724\n",
      "Loss: 0.04833003133535385\n",
      "Loss: 0.04776597023010254\n",
      "Loss: 0.04720190912485123\n",
      "Loss: 0.04663785547018051\n",
      "Loss: 0.04612737521529198\n",
      "Loss: 0.04564227908849716\n",
      "Loss: 0.04515717178583145\n",
      "Loss: 0.04467208310961723\n",
      "Loss: 0.044186972081661224\n",
      "Loss: 0.04370187222957611\n",
      "Loss: 0.04323524236679077\n",
      "Loss: 0.042772337794303894\n",
      "Loss: 0.04230942949652672\n",
      "Loss: 0.04184652119874954\n",
      "Loss: 0.041383616626262665\n",
      "Loss: 0.040923647582530975\n",
      "Loss: 0.04046209901571274\n",
      "Loss: 0.039999186992645264\n",
      "Loss: 0.039536286145448685\n",
      "Loss: 0.03907337784767151\n",
      "Loss: 0.03861047327518463\n",
      "Loss: 0.038147564977407455\n",
      "Loss: 0.037686776369810104\n",
      "Loss: 0.03722603991627693\n",
      "Loss: 0.036763135343790054\n",
      "Loss: 0.03630022704601288\n",
      "Loss: 0.0358373261988163\n",
      "Loss: 0.035374414175748825\n",
      "Loss: 0.03491150960326195\n",
      "Loss: 0.03444991260766983\n",
      "Loss: 0.033989984542131424\n",
      "Loss: 0.03352707624435425\n",
      "Loss: 0.03306417912244797\n",
      "Loss: 0.032601263374090195\n",
      "Loss: 0.032138366252183914\n",
      "Loss: 0.03167545050382614\n",
      "Loss: 0.031213048845529556\n",
      "Loss: 0.030753929167985916\n",
      "Loss: 0.03029102459549904\n",
      "Loss: 0.029828116297721863\n",
      "Loss: 0.029365211725234985\n",
      "Loss: 0.02890230342745781\n",
      "Loss: 0.028439398854970932\n",
      "Loss: 0.02797650173306465\n",
      "Loss: 0.02751755714416504\n",
      "Loss: 0.027054961770772934\n",
      "Loss: 0.026592057198286057\n",
      "Loss: 0.026129161939024925\n",
      "Loss: 0.0256662517786026\n",
      "Loss: 0.025203347206115723\n",
      "Loss: 0.024740438908338547\n",
      "Loss: 0.02428070642054081\n",
      "Loss: 0.023818915709853172\n",
      "Loss: 0.023356009274721146\n",
      "Loss: 0.02289310283958912\n",
      "Loss: 0.022430192679166794\n",
      "Loss: 0.021967291831970215\n",
      "Loss: 0.021504372358322144\n",
      "Loss: 0.021043840795755386\n",
      "Loss: 0.020582860335707664\n",
      "Loss: 0.02011994458734989\n",
      "Loss: 0.019657045602798462\n",
      "Loss: 0.019194144755601883\n",
      "Loss: 0.01873123086988926\n",
      "Loss: 0.01826832816004753\n",
      "Loss: 0.017806977033615112\n",
      "Loss: 0.017346803098917007\n",
      "Loss: 0.01688389852643013\n",
      "Loss: 0.016420993953943253\n",
      "Loss: 0.015958085656166077\n",
      "Loss: 0.0154951810836792\n",
      "Loss: 0.015032270923256874\n",
      "Loss: 0.014570111408829689\n",
      "Loss: 0.014110746793448925\n",
      "Loss: 0.013647839426994324\n",
      "Loss: 0.01318493951112032\n",
      "Loss: 0.012722030282020569\n",
      "Loss: 0.012259118258953094\n",
      "Loss: 0.01179622020572424\n",
      "Loss: 0.011333314701914787\n",
      "Loss: 0.010874615982174873\n",
      "Loss: 0.010411787778139114\n",
      "Loss: 0.009948883205652237\n",
      "Loss: 0.009485973976552486\n",
      "Loss: 0.009023068472743034\n",
      "Loss: 0.008560165762901306\n",
      "Loss: 0.00809725932776928\n",
      "Loss: 0.007637757807970047\n",
      "Loss: 0.00717573007568717\n",
      "Loss: 0.006712824106216431\n",
      "Loss: 0.006249918602406979\n",
      "Loss: 0.005787008907645941\n",
      "Loss: 0.005324104335159063\n",
      "Loss: 0.004861201159656048\n",
      "Loss: 0.004400893114507198\n",
      "Loss: 0.0039472421631217\n",
      "Loss: 0.003485803958028555\n",
      "Loss: 0.0030183426570147276\n",
      "Loss: 0.002580036874860525\n",
      "Loss: 0.0021603896748274565\n",
      "Loss: 0.0022170678712427616\n",
      "Loss: 0.005157609470188618\n",
      "Loss: 0.0069999778643250465\n",
      "Loss: 0.005157609470188618\n",
      "Loss: 0.0069999778643250465\n",
      "Loss: 0.005157609470188618\n",
      "Loss: 0.0069999778643250465\n",
      "Loss: 0.005157609470188618\n",
      "Loss: 0.0069999778643250465\n",
      "Loss: 0.005157609470188618\n",
      "Loss: 0.0069999778643250465\n",
      "Loss: 0.005157609470188618\n",
      "Loss: 0.0069999778643250465\n",
      "Loss: 0.005157609470188618\n",
      "Loss: 0.0069999778643250465\n",
      "Loss: 0.005157609470188618\n",
      "Loss: 0.0069999778643250465\n",
      "Loss: 0.005157609470188618\n",
      "Loss: 0.0069999778643250465\n",
      "Loss: 0.005157609470188618\n",
      "Loss: 0.0069999778643250465\n",
      "Loss: 0.005157609470188618\n",
      "Loss: 0.0069999778643250465\n",
      "Loss: 0.005157609470188618\n",
      "Loss: 0.0069999778643250465\n",
      "Loss: 0.005157609470188618\n",
      "Loss: 0.0069999778643250465\n",
      "Loss: 0.005157609470188618\n",
      "Loss: 0.0069999778643250465\n",
      "Loss: 0.005157609470188618\n",
      "Loss: 0.0069999778643250465\n",
      "Loss: 0.005157609470188618\n",
      "Loss: 0.0069999778643250465\n",
      "Loss: 0.005157609470188618\n",
      "Loss: 0.0069999778643250465\n",
      "Loss: 0.005157609470188618\n",
      "Loss: 0.0069999778643250465\n",
      "Loss: 0.005157609470188618\n",
      "Loss: 0.0069999778643250465\n",
      "Loss: 0.005157609470188618\n",
      "Loss: 0.0069999778643250465\n",
      "Loss: 0.005157609470188618\n",
      "Loss: 0.0069999778643250465\n",
      "Loss: 0.005157609470188618\n",
      "Loss: 0.0069999778643250465\n",
      "Loss: 0.005157609470188618\n",
      "Loss: 0.0069999778643250465\n",
      "Loss: 0.005157609470188618\n",
      "Loss: 0.0069999778643250465\n",
      "Loss: 0.005157609470188618\n",
      "Loss: 0.0069999778643250465\n",
      "Loss: 0.005157609470188618\n",
      "Loss: 0.0069999778643250465\n",
      "Loss: 0.005157609470188618\n",
      "Loss: 0.0069999778643250465\n",
      "Loss: 0.005157609470188618\n",
      "Loss: 0.0069999778643250465\n",
      "Loss: 0.005157609470188618\n",
      "Loss: 0.0069999778643250465\n",
      "Loss: 0.005157609470188618\n",
      "Loss: 0.0069999778643250465\n"
     ]
    }
   ],
   "source": [
    "# An epoc his one loop through the data... (this is a hyperparameter because we've set these ourselves)\n",
    "epochs = 200\n",
    "\n",
    "# 0. Loop through the data\n",
    "for epoch in range(epochs):\n",
    "    # Set the model to training mode\n",
    "    model_0.train() # train mode in PyTorch sets all parameters that require gradients to require gradients\n",
    "    \n",
    "    # 1. Forward pass\n",
    "    y_pred = model_0(X_train)\n",
    "    \n",
    "    # 2. Calculate the loss\n",
    "    loss = loss_fn(y_pred, y_train)\n",
    "    print(f\"Loss: {loss}\")\n",
    "\n",
    "    # 3. Optimizer zero grad\n",
    "    optimizer.zero_grad()\n",
    "\n",
    "    # 4. perform backpropagation on the loss with respect to the parameters of the model\n",
    "    loss.backward()\n",
    "\n",
    "    # 5. Step teh optimizer (perform gradient descent)\n",
    "    optimizer.step() # by default how the optimizer changes will accumulate through the loop so we have to zero them above in step 3 from \n",
    "    \n",
    "    # Testing\n",
    "    model_0.eval() # turns off different settings in the model not needed for evaluation/testing (dropout/ batch norm layers)\n",
    "\n",
    "    # print out model state_dict()\n",
    "    # print(model_0.state_dict())\n",
    "\n"
   ]
  },
  {
   "cell_type": "code",
   "execution_count": 42,
   "metadata": {},
   "outputs": [],
   "source": [
    "with torch.inference_mode():\n",
    "    y_preds_new = model_0(X_test)"
   ]
  },
  {
   "cell_type": "code",
   "execution_count": 43,
   "metadata": {},
   "outputs": [
    {
     "data": {
      "image/png": "[encoded data removed]",
      "text/plain": [
       "<Figure size 1000x700 with 1 Axes>"
      ]
     },
     "metadata": {},
     "output_type": "display_data"
    }
   ],
   "source": [
    "plot_predictions(predictions=y_preds_new)"
   ]
  },
  {
   "attachments": {},
   "cell_type": "markdown",
   "metadata": {},
   "source": [
    "## Saving a model in PyTorch\n",
    "\n",
    "There are three main methods you should know aout for saving and loading models in PyTorch.\n",
    "\n",
    "1. `torch.save()` allows you to save a PyTorch object in Python's pickle format\n",
    "1. `torch.load()` allows you to load a saved PyTorch object\n",
    "1. `torch.nn.Module.load_state_dict()` allows you to load a model's saved state dictionary"
   ]
  },
  {
   "cell_type": "code",
   "execution_count": 44,
   "metadata": {},
   "outputs": [
    {
     "name": "stdout",
     "output_type": "stream",
     "text": [
      "Saving model to: models\\01_pytorch_workflow_model_0.pt\n"
     ]
    }
   ],
   "source": [
    "# Saving our PyTorch model\n",
    "from pathlib import Path\n",
    "\n",
    "# 1. Create models directory\n",
    "MODEL_PATH = Path(\"models\")\n",
    "MODEL_PATH.mkdir(parents=True, exist_ok=True)\n",
    "\n",
    "# 2. Create model save path\n",
    "MODEL_NAME = '01_pytorch_workflow_model_0.pt' # can be .pt or .pth\n",
    "MODEL_SAVE_PATH = MODEL_PATH / MODEL_NAME\n",
    "\n",
    "# 3. Save the model state_dict\n",
    "print(f\"Saving model to: {MODEL_SAVE_PATH}\")\n",
    "torch.save(obj = model_0.state_dict(), f = MODEL_SAVE_PATH)"
   ]
  },
  {
   "attachments": {},
   "cell_type": "markdown",
   "metadata": {},
   "source": [
    "## Loading a PyTorch model\n",
    "\n",
    "Since we saved our model's `state_dict()` rather than the entire model, we'll create a new instance of our model class and load the saved `state_dict()`."
   ]
  },
  {
   "cell_type": "code",
   "execution_count": 45,
   "metadata": {},
   "outputs": [
    {
     "data": {
      "text/plain": [
       "<All keys matched successfully>"
      ]
     },
     "execution_count": 45,
     "metadata": {},
     "output_type": "execute_result"
    }
   ],
   "source": [
    "# To load in a saved state_dict, we have to instantiate a new instance of our model class\n",
    "loaded_model_0 = LinearRegressionModel()\n",
    "\n",
    "# Load the saved state_dict of model_0 (this will update the new instance with updated parameters)\n",
    "loaded_model_0.load_state_dict(torch.load(f = MODEL_SAVE_PATH))"
   ]
  },
  {
   "cell_type": "code",
   "execution_count": 46,
   "metadata": {},
   "outputs": [],
   "source": [
    "# Make some predictions with our loaded model\n",
    "loaded_model_0.eval()\n",
    "\n",
    "with torch.inference_mode():\n",
    "    loaded_model_preds = loaded_model_0(X_test)"
   ]
  },
  {
   "cell_type": "code",
   "execution_count": 47,
   "metadata": {},
   "outputs": [
    {
     "data": {
      "text/plain": [
       "tensor([[True],\n",
       "        [True],\n",
       "        [True],\n",
       "        [True],\n",
       "        [True],\n",
       "        [True],\n",
       "        [True],\n",
       "        [True],\n",
       "        [True],\n",
       "        [True]])"
      ]
     },
     "execution_count": 47,
     "metadata": {},
     "output_type": "execute_result"
    }
   ],
   "source": [
    "# Compare loaded model preds with original model preds\n",
    "y_preds_new == loaded_model_preds "
   ]
  },
  {
   "attachments": {},
   "cell_type": "markdown",
   "metadata": {},
   "source": [
    "Create device-agnostic code.\n",
    "\n",
    "This means if we've got access to a GPU, our code will use it (for potentially faster computing).\n",
    "\n",
    "If no GPU is available, the code will default to using CPU."
   ]
  },
  {
   "cell_type": "code",
   "execution_count": 48,
   "metadata": {},
   "outputs": [
    {
     "name": "stdout",
     "output_type": "stream",
     "text": [
      "Using device: cuda\n"
     ]
    }
   ],
   "source": [
    "# Setup device agnostic code\n",
    "device = 'cuda' if torch.cuda.is_available() else 'cpu'\n",
    "print(f'Using device: {device}')"
   ]
  },
  {
   "attachments": {},
   "cell_type": "markdown",
   "metadata": {},
   "source": [
    "### Implement everything we've learnt together"
   ]
  },
  {
   "attachments": {},
   "cell_type": "markdown",
   "metadata": {},
   "source": [
    "Data"
   ]
  },
  {
   "cell_type": "code",
   "execution_count": 49,
   "metadata": {},
   "outputs": [],
   "source": [
    "# Create some data using linear regression\n",
    "weight = 0.5\n",
    "bias = 0.7\n",
    "\n",
    "# Create range values\n",
    "start = 0\n",
    "end = 1\n",
    "step = 0.01\n",
    "\n",
    "# Create X and y (features and bias)\n",
    "X = torch.arange(start, end, step).unsqueeze(dim = 1)\n",
    "y = weight*X + bias\n",
    "\n",
    "# Splitting data into training and tests sets \n",
    "X_train, X_test, y_train, y_test = train_test_split(X,y,test_size = 0.2, random_state = 123)"
   ]
  },
  {
   "attachments": {},
   "cell_type": "markdown",
   "metadata": {},
   "source": [
    "Create a PyTorch model"
   ]
  },
  {
   "cell_type": "code",
   "execution_count": 50,
   "metadata": {},
   "outputs": [
    {
     "data": {
      "text/plain": [
       "OrderedDict([('linear_layer.weight', tensor([[0.7645]])),\n",
       "             ('linear_layer.bias', tensor([0.8300]))])"
      ]
     },
     "execution_count": 50,
     "metadata": {},
     "output_type": "execute_result"
    }
   ],
   "source": [
    "# Create a linear model by subclassing nn.Module\n",
    "\n",
    "class LinearRegressionModelV2(nn.Module):\n",
    "    def __init__(self):\n",
    "        super().__init__()\n",
    "        # Use nn.Linear() for creating the model parameters\n",
    "        self.linear_layer = nn.Linear(in_features=1, out_features=1)\n",
    "\n",
    "    def forward(self, x:torch.Tensor) -> torch.Tensor:\n",
    "        return self.linear_layer(x)\n",
    "    \n",
    "# Set the manual seed\n",
    "torch.manual_seed(42)\n",
    "model_1 = LinearRegressionModelV2()\n",
    "\n",
    "model_1.state_dict()"
   ]
  },
  {
   "cell_type": "code",
   "execution_count": 51,
   "metadata": {},
   "outputs": [
    {
     "name": "stdout",
     "output_type": "stream",
     "text": [
      "Using device: cuda\n"
     ]
    },
    {
     "data": {
      "text/plain": [
       "device(type='cuda', index=0)"
      ]
     },
     "execution_count": 51,
     "metadata": {},
     "output_type": "execute_result"
    }
   ],
   "source": [
    "# Setup device agnostic code\n",
    "device = 'cuda' if torch.cuda.is_available() else 'cpu'\n",
    "print(f'Using device: {device}')\n",
    "\n",
    "# Set the model to use the target device\n",
    "model_1.to(device)\n",
    "next(model_1.parameters()).device"
   ]
  },
  {
   "attachments": {},
   "cell_type": "markdown",
   "metadata": {},
   "source": [
    "For training, we neeed:\n",
    "* Loss function\n",
    "* Optimizer\n",
    "* Training loop\n",
    "* Testing loop"
   ]
  },
  {
   "cell_type": "code",
   "execution_count": 52,
   "metadata": {},
   "outputs": [],
   "source": [
    "# Setup loss function\n",
    "loss_fn = nn.L1Loss()\n",
    "\n",
    "# Setup optimizer\n",
    "optimizer = torch.optim.SGD(params = model_1.parameters(), lr = 0.01)\n"
   ]
  },
  {
   "cell_type": "code",
   "execution_count": 53,
   "metadata": {},
   "outputs": [
    {
     "name": "stdout",
     "output_type": "stream",
     "text": [
      "Epoch: 0 | Loss: 0.2630377411842346 | Test loss: 0.24029071629047394\n",
      "Epoch: 10 | Loss: 0.13774962723255157 | Test loss: 0.11698267608880997\n",
      "Epoch: 20 | Loss: 0.04771485924720764 | Test loss: 0.04373722895979881\n",
      "Epoch: 30 | Loss: 0.033779218792915344 | Test loss: 0.031783219426870346\n",
      "Epoch: 40 | Loss: 0.02851714752614498 | Test loss: 0.026621198281645775\n",
      "Epoch: 50 | Loss: 0.023494238033890724 | Test loss: 0.021808747202157974\n",
      "Epoch: 60 | Loss: 0.018475452437996864 | Test loss: 0.017061511054635048\n",
      "Epoch: 70 | Loss: 0.013454660773277283 | Test loss: 0.012281665578484535\n",
      "Epoch: 80 | Loss: 0.008435911498963833 | Test loss: 0.007534426636993885\n",
      "Epoch: 90 | Loss: 0.003415081650018692 | Test loss: 0.002754583954811096\n"
     ]
    }
   ],
   "source": [
    "# Training loop\n",
    "torch.manual_seed(42)\n",
    "\n",
    "epochs = 100\n",
    "\n",
    "# Put data on the target device\n",
    "X_train = X_train.to(device)\n",
    "X_test = X_test.to(device)\n",
    "y_train = y_train.to(device)\n",
    "y_test = y_test.to(device)\n",
    "\n",
    "for epoch in range(epochs):\n",
    "    model_1.train()\n",
    "\n",
    "    # 1. Forward pass\n",
    "    y_pred = model_1(X_train)\n",
    "\n",
    "    # 2. Calculate the loss\n",
    "    loss = loss_fn(y_pred, y_train)\n",
    "\n",
    "    # 3. Optimizer zero grad\n",
    "    optimizer.zero_grad()\n",
    "\n",
    "    # 4. Back propagation\n",
    "    loss.backward()\n",
    "\n",
    "    # 5. Optimizer step\n",
    "    optimizer.step()\n",
    "\n",
    "    model_1.eval()\n",
    "\n",
    "    with torch.inference_mode():\n",
    "        test_pred = model_1(X_test)\n",
    "        test_loss = loss_fn(test_pred, y_test)\n",
    "\n",
    "    if epoch % 10 == 0:\n",
    "        print(f\"Epoch: {epoch} | Loss: {loss} | Test loss: {test_loss}\")\n"
   ]
  },
  {
   "cell_type": "code",
   "execution_count": 54,
   "metadata": {},
   "outputs": [],
   "source": [
    "# Turn model into evaluation mode\n",
    "model_1.eval()\n",
    "\n",
    "# Make predictions on the test data\n",
    "with torch.inference_mode():\n",
    "    y_preds = model_1(X_test)"
   ]
  },
  {
   "cell_type": "code",
   "execution_count": 55,
   "metadata": {},
   "outputs": [
    {
     "data": {
      "image/png": "[encoded data removed]",
      "text/plain": [
       "<Figure size 1000x700 with 1 Axes>"
      ]
     },
     "metadata": {},
     "output_type": "display_data"
    }
   ],
   "source": [
    "plot_predictions(X_train.cpu(), y_train.cpu(), X_test.cpu(), y_test.cpu(), predictions = y_preds.cpu())"
   ]
  },
  {
   "attachments": {},
   "cell_type": "markdown",
   "metadata": {},
   "source": [
    "### Saving and loading a trained model"
   ]
  },
  {
   "cell_type": "code",
   "execution_count": 56,
   "metadata": {},
   "outputs": [
    {
     "name": "stdout",
     "output_type": "stream",
     "text": [
      "Saving model to: models\\01_pytorch_workflow_model_1.pth\n"
     ]
    }
   ],
   "source": [
    "from pathlib import Path\n",
    "\n",
    "# 1. Create model directory\n",
    "MODEL_PATH = Path('models')\n",
    "MODEL_PATH.mkdir(parents = True, exist_ok=True)\n",
    "\n",
    "# Create model save path\n",
    "MODEL_NAME = '01_pytorch_workflow_model_1.pth'\n",
    "MODEL_SAVE_NAME = MODEL_PATH / MODEL_NAME\n",
    "\n",
    "# 3. Save the model state dict\n",
    "print(f\"Saving model to: {MODEL_SAVE_NAME}\")\n",
    "torch.save(obj = model_1.state_dict(), f = MODEL_SAVE_NAME)"
   ]
  },
  {
   "cell_type": "code",
   "execution_count": 63,
   "metadata": {},
   "outputs": [
    {
     "data": {
      "text/plain": [
       "LinearRegressionModelV2(\n",
       "  (linear_layer): Linear(in_features=1, out_features=1, bias=True)\n",
       ")"
      ]
     },
     "execution_count": 63,
     "metadata": {},
     "output_type": "execute_result"
    }
   ],
   "source": [
    "# Load a PyTorch model\n",
    "\n",
    "# Create a new instance of the regression model\n",
    "loaded_model_1  = LinearRegressionModelV2()\n",
    "# Load the saved model_1 state_dict\n",
    "loaded_model_1.load_state_dict(torch.load(MODEL_SAVE_NAME))\n",
    "\n",
    "# Put the loaded model to device\n",
    "loaded_model_1.to(device)"
   ]
  },
  {
   "cell_type": "code",
   "execution_count": 66,
   "metadata": {},
   "outputs": [
    {
     "data": {
      "text/plain": [
       "device(type='cuda', index=0)"
      ]
     },
     "execution_count": 66,
     "metadata": {},
     "output_type": "execute_result"
    }
   ],
   "source": [
    "next(loaded_model_1.parameters()).device"
   ]
  },
  {
   "cell_type": "code",
   "execution_count": 71,
   "metadata": {},
   "outputs": [
    {
     "data": {
      "text/plain": [
       "OrderedDict([('linear_layer.weight', tensor([[0.5076]], device='cuda:0')),\n",
       "             ('linear_layer.bias', tensor([0.7060], device='cuda:0'))])"
      ]
     },
     "execution_count": 71,
     "metadata": {},
     "output_type": "execute_result"
    }
   ],
   "source": [
    "loaded_model_1.state_dict()"
   ]
  },
  {
   "cell_type": "code",
   "execution_count": 72,
   "metadata": {},
   "outputs": [
    {
     "data": {
      "text/plain": [
       "tensor([[True],\n",
       "        [True],\n",
       "        [True],\n",
       "        [True],\n",
       "        [True],\n",
       "        [True],\n",
       "        [True],\n",
       "        [True],\n",
       "        [True],\n",
       "        [True],\n",
       "        [True],\n",
       "        [True],\n",
       "        [True],\n",
       "        [True],\n",
       "        [True],\n",
       "        [True],\n",
       "        [True],\n",
       "        [True],\n",
       "        [True],\n",
       "        [True]], device='cuda:0')"
      ]
     },
     "execution_count": 72,
     "metadata": {},
     "output_type": "execute_result"
    }
   ],
   "source": [
    "# Evaluate loaded model\n",
    "loaded_model_1.eval()\n",
    "with torch.inference_mode():\n",
    "    loaded_model_1_preds = loaded_model_1(X_test)\n",
    "y_preds == loaded_model_1_preds"
   ]
  }
 ],
 "metadata": {
  "kernelspec": {
   "display_name": "Python 3",
   "language": "python",
   "name": "python3"
  },
  "language_info": {
   "codemirror_mode": {
    "name": "ipython",
    "version": 3
   },
   "file_extension": ".py",
   "mimetype": "text/x-python",
   "name": "python",
   "nbconvert_exporter": "python",
   "pygments_lexer": "ipython3",
   "version": "3.11.0"
  },
  "orig_nbformat": 4,
  "vscode": {
   "interpreter": {
    "hash": "41bb379b8c51879f8791d8a58ee2c268e30c191141e9580158e121a673ab260e"
   }
  }
 },
 "nbformat": 4,
 "nbformat_minor": 2
}
